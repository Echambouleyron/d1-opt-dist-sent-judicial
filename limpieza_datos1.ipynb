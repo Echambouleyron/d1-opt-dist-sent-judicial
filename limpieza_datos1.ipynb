{
 "cells": [
  {
   "cell_type": "markdown",
   "metadata": {
    "colab": {
     "base_uri": "https://localhost:8080/",
     "height": 1000
    },
    "colab_type": "code",
    "executionInfo": {
     "elapsed": 2342,
     "status": "ok",
     "timestamp": 1588194455089,
     "user": {
      "displayName": "Emilio Chambouleyron",
      "photoUrl": "https://lh3.googleusercontent.com/a-/AOh14GhlNcCQI_-kf04y2yc9u-8hEVC67WNdvb5QL7QHdg=s64",
      "userId": "02039745528750124958"
     },
     "user_tz": 180
    },
    "id": "fpW834D3-d9c",
    "outputId": "a7b298d1-6207-44dd-9cc1-a8ace4f71f34"
   },
   "source": [
    "## Limpieza de datos:\n",
    "\n",
    "**Lo hecho:**\n",
    "\n",
    ". Removí los caractéres no númericos de la columna: org_descorta_pri \n",
    " \n",
    ". Reemplacé los códigos de las columnas org_idintpri y org_idradactual por los valores de la columna meniconada en el primer   punto. Esto se debe a que las tres columnas se refieren a juzgados.\n",
    " \n",
    ". De la columna oju_descr (descripción de los delitos) extraje: el delito al cual se refiere;el código al cual se refiere el delito y el promedio de la pena en meses presente en el código.\n",
    " \n",
    ". Se eliminaron las columnas que tenían un alto porcentaje de valores nulos.\n",
    " \n",
    ". Se eliminaron otras columnas con información duplicada\n",
    "\n",
    "\n",
    "**Lo que queda por hacer**:\n",
    "\n",
    ". Hay muchas columnas que tienen la misma cantidad de valores nulos, lo que hace suponer que existe una correlación entre ellas. En otras palabras, la existencia de valores nulos en estas columnas quizás tenga una explicación común.\n",
    "\n",
    "\n",
    "**Preguntas:**\n",
    "\n",
    ". Por qué existen valores nulos en las siguientes columnas: org_descorta_pri,fecha_ingreso MPF, flagrancia, detenidos, etc.\n",
    "\n",
    ".¿Es posible pensar en un indicador de carga de trabajo que contemple: cantidad de causas, pena estimada del delito, existencia o no de presos y flagrancia?"
   ]
  },
  {
   "cell_type": "code",
   "execution_count": 1,
   "metadata": {},
   "outputs": [
    {
     "data": {
      "text/html": [
       "<div>\n",
       "<style scoped>\n",
       "    .dataframe tbody tr th:only-of-type {\n",
       "        vertical-align: middle;\n",
       "    }\n",
       "\n",
       "    .dataframe tbody tr th {\n",
       "        vertical-align: top;\n",
       "    }\n",
       "\n",
       "    .dataframe thead th {\n",
       "        text-align: right;\n",
       "    }\n",
       "</style>\n",
       "<table border=\"1\" class=\"dataframe\">\n",
       "  <thead>\n",
       "    <tr style=\"text-align: right;\">\n",
       "      <th></th>\n",
       "      <th>org_idradactual</th>\n",
       "      <th>exp_cuij</th>\n",
       "      <th>org_idintpri</th>\n",
       "      <th>org_cod_pri</th>\n",
       "      <th>org_descorta_pri</th>\n",
       "      <th>org_descr_Pri</th>\n",
       "      <th>org_idintseg</th>\n",
       "      <th>est_id</th>\n",
       "      <th>est_descr</th>\n",
       "      <th>exp_anio</th>\n",
       "      <th>...</th>\n",
       "      <th>den_v_domestica</th>\n",
       "      <th>den_v_genero</th>\n",
       "      <th>den_zon_id</th>\n",
       "      <th>den_zona</th>\n",
       "      <th>filter_.</th>\n",
       "      <th>org_destino_act</th>\n",
       "      <th>PrimarioDen_id</th>\n",
       "      <th>PrimarioDen_id_oju</th>\n",
       "      <th>PrimarioExp_id</th>\n",
       "      <th>PrimarioExp_oju</th>\n",
       "    </tr>\n",
       "  </thead>\n",
       "  <tbody>\n",
       "    <tr>\n",
       "      <td>0</td>\n",
       "      <td>72</td>\n",
       "      <td>01-00042685-3</td>\n",
       "      <td>72</td>\n",
       "      <td>JUZP01</td>\n",
       "      <td>JUZGADO N°1</td>\n",
       "      <td>JUZGADO DE 1RA INSTANCIA EN LO PENAL CONTRAVEN...</td>\n",
       "      <td>unknown</td>\n",
       "      <td>1</td>\n",
       "      <td>ASIGNADO</td>\n",
       "      <td>2016</td>\n",
       "      <td>...</td>\n",
       "      <td>NaN</td>\n",
       "      <td>NaN</td>\n",
       "      <td>unknown</td>\n",
       "      <td>unknown</td>\n",
       "      <td>1</td>\n",
       "      <td>unknown</td>\n",
       "      <td>1</td>\n",
       "      <td>1</td>\n",
       "      <td>1</td>\n",
       "      <td>1</td>\n",
       "    </tr>\n",
       "    <tr>\n",
       "      <td>1</td>\n",
       "      <td>72</td>\n",
       "      <td>01-00039012-3</td>\n",
       "      <td>72</td>\n",
       "      <td>JUZP01</td>\n",
       "      <td>JUZGADO N°1</td>\n",
       "      <td>JUZGADO DE 1RA INSTANCIA EN LO PENAL CONTRAVEN...</td>\n",
       "      <td>unknown</td>\n",
       "      <td>14</td>\n",
       "      <td>ARCHIVADO</td>\n",
       "      <td>2016</td>\n",
       "      <td>...</td>\n",
       "      <td>NaN</td>\n",
       "      <td>NaN</td>\n",
       "      <td>unknown</td>\n",
       "      <td>unknown</td>\n",
       "      <td>1</td>\n",
       "      <td>unknown</td>\n",
       "      <td>1</td>\n",
       "      <td>1</td>\n",
       "      <td>1</td>\n",
       "      <td>1</td>\n",
       "    </tr>\n",
       "    <tr>\n",
       "      <td>2</td>\n",
       "      <td>72</td>\n",
       "      <td>01-00035028-8</td>\n",
       "      <td>72</td>\n",
       "      <td>JUZP01</td>\n",
       "      <td>JUZGADO N°1</td>\n",
       "      <td>JUZGADO DE 1RA INSTANCIA EN LO PENAL CONTRAVEN...</td>\n",
       "      <td>unknown</td>\n",
       "      <td>1</td>\n",
       "      <td>ASIGNADO</td>\n",
       "      <td>2016</td>\n",
       "      <td>...</td>\n",
       "      <td>NaN</td>\n",
       "      <td>NaN</td>\n",
       "      <td>unknown</td>\n",
       "      <td>unknown</td>\n",
       "      <td>1</td>\n",
       "      <td>unknown</td>\n",
       "      <td>1</td>\n",
       "      <td>1</td>\n",
       "      <td>1</td>\n",
       "      <td>1</td>\n",
       "    </tr>\n",
       "    <tr>\n",
       "      <td>3</td>\n",
       "      <td>72</td>\n",
       "      <td>01-00036824-1</td>\n",
       "      <td>72</td>\n",
       "      <td>JUZP01</td>\n",
       "      <td>JUZGADO N°1</td>\n",
       "      <td>JUZGADO DE 1RA INSTANCIA EN LO PENAL CONTRAVEN...</td>\n",
       "      <td>unknown</td>\n",
       "      <td>14</td>\n",
       "      <td>ARCHIVADO</td>\n",
       "      <td>2016</td>\n",
       "      <td>...</td>\n",
       "      <td>NaN</td>\n",
       "      <td>NaN</td>\n",
       "      <td>unknown</td>\n",
       "      <td>unknown</td>\n",
       "      <td>1</td>\n",
       "      <td>unknown</td>\n",
       "      <td>1</td>\n",
       "      <td>1</td>\n",
       "      <td>1</td>\n",
       "      <td>1</td>\n",
       "    </tr>\n",
       "    <tr>\n",
       "      <td>4</td>\n",
       "      <td>72</td>\n",
       "      <td>01-00034124-6</td>\n",
       "      <td>72</td>\n",
       "      <td>JUZP01</td>\n",
       "      <td>JUZGADO N°1</td>\n",
       "      <td>JUZGADO DE 1RA INSTANCIA EN LO PENAL CONTRAVEN...</td>\n",
       "      <td>unknown</td>\n",
       "      <td>14</td>\n",
       "      <td>ARCHIVADO</td>\n",
       "      <td>2016</td>\n",
       "      <td>...</td>\n",
       "      <td>NaN</td>\n",
       "      <td>NaN</td>\n",
       "      <td>unknown</td>\n",
       "      <td>unknown</td>\n",
       "      <td>1</td>\n",
       "      <td>unknown</td>\n",
       "      <td>1</td>\n",
       "      <td>1</td>\n",
       "      <td>1</td>\n",
       "      <td>1</td>\n",
       "    </tr>\n",
       "    <tr>\n",
       "      <td>...</td>\n",
       "      <td>...</td>\n",
       "      <td>...</td>\n",
       "      <td>...</td>\n",
       "      <td>...</td>\n",
       "      <td>...</td>\n",
       "      <td>...</td>\n",
       "      <td>...</td>\n",
       "      <td>...</td>\n",
       "      <td>...</td>\n",
       "      <td>...</td>\n",
       "      <td>...</td>\n",
       "      <td>...</td>\n",
       "      <td>...</td>\n",
       "      <td>...</td>\n",
       "      <td>...</td>\n",
       "      <td>...</td>\n",
       "      <td>...</td>\n",
       "      <td>...</td>\n",
       "      <td>...</td>\n",
       "      <td>...</td>\n",
       "      <td>...</td>\n",
       "    </tr>\n",
       "    <tr>\n",
       "      <td>37131</td>\n",
       "      <td>1001</td>\n",
       "      <td>01-00051596-1</td>\n",
       "      <td>1001</td>\n",
       "      <td>SDPCYF</td>\n",
       "      <td>S/D</td>\n",
       "      <td>S/D</td>\n",
       "      <td>unknown</td>\n",
       "      <td>14</td>\n",
       "      <td>ARCHIVADO</td>\n",
       "      <td>2016</td>\n",
       "      <td>...</td>\n",
       "      <td>NO</td>\n",
       "      <td>NaN</td>\n",
       "      <td>unknown</td>\n",
       "      <td>unknown</td>\n",
       "      <td>1</td>\n",
       "      <td>unknown</td>\n",
       "      <td>1</td>\n",
       "      <td>1</td>\n",
       "      <td>1</td>\n",
       "      <td>1</td>\n",
       "    </tr>\n",
       "    <tr>\n",
       "      <td>37132</td>\n",
       "      <td>1001</td>\n",
       "      <td>01-00046682-0</td>\n",
       "      <td>1001</td>\n",
       "      <td>SDPCYF</td>\n",
       "      <td>S/D</td>\n",
       "      <td>S/D</td>\n",
       "      <td>unknown</td>\n",
       "      <td>1</td>\n",
       "      <td>ASIGNADO</td>\n",
       "      <td>2016</td>\n",
       "      <td>...</td>\n",
       "      <td>NO</td>\n",
       "      <td>NaN</td>\n",
       "      <td>unknown</td>\n",
       "      <td>unknown</td>\n",
       "      <td>1</td>\n",
       "      <td>unknown</td>\n",
       "      <td>1</td>\n",
       "      <td>1</td>\n",
       "      <td>1</td>\n",
       "      <td>1</td>\n",
       "    </tr>\n",
       "    <tr>\n",
       "      <td>37133</td>\n",
       "      <td>1001</td>\n",
       "      <td>01-00047070-4</td>\n",
       "      <td>1001</td>\n",
       "      <td>SDPCYF</td>\n",
       "      <td>S/D</td>\n",
       "      <td>S/D</td>\n",
       "      <td>unknown</td>\n",
       "      <td>14</td>\n",
       "      <td>ARCHIVADO</td>\n",
       "      <td>2016</td>\n",
       "      <td>...</td>\n",
       "      <td>NO</td>\n",
       "      <td>NaN</td>\n",
       "      <td>unknown</td>\n",
       "      <td>unknown</td>\n",
       "      <td>1</td>\n",
       "      <td>unknown</td>\n",
       "      <td>1</td>\n",
       "      <td>1</td>\n",
       "      <td>1</td>\n",
       "      <td>1</td>\n",
       "    </tr>\n",
       "    <tr>\n",
       "      <td>37134</td>\n",
       "      <td>1001</td>\n",
       "      <td>01-00051827-8</td>\n",
       "      <td>1001</td>\n",
       "      <td>SDPCYF</td>\n",
       "      <td>S/D</td>\n",
       "      <td>S/D</td>\n",
       "      <td>unknown</td>\n",
       "      <td>14</td>\n",
       "      <td>ARCHIVADO</td>\n",
       "      <td>2016</td>\n",
       "      <td>...</td>\n",
       "      <td>NO</td>\n",
       "      <td>NaN</td>\n",
       "      <td>unknown</td>\n",
       "      <td>27460</td>\n",
       "      <td>1</td>\n",
       "      <td>unknown</td>\n",
       "      <td>1</td>\n",
       "      <td>1</td>\n",
       "      <td>1</td>\n",
       "      <td>1</td>\n",
       "    </tr>\n",
       "    <tr>\n",
       "      <td>37135</td>\n",
       "      <td>1001</td>\n",
       "      <td>01-00051569-4</td>\n",
       "      <td>1001</td>\n",
       "      <td>SDPCYF</td>\n",
       "      <td>S/D</td>\n",
       "      <td>S/D</td>\n",
       "      <td>unknown</td>\n",
       "      <td>14</td>\n",
       "      <td>ARCHIVADO</td>\n",
       "      <td>2016</td>\n",
       "      <td>...</td>\n",
       "      <td>NO</td>\n",
       "      <td>NaN</td>\n",
       "      <td>unknown</td>\n",
       "      <td>unknown</td>\n",
       "      <td>1</td>\n",
       "      <td>unknown</td>\n",
       "      <td>1</td>\n",
       "      <td>1</td>\n",
       "      <td>1</td>\n",
       "      <td>1</td>\n",
       "    </tr>\n",
       "  </tbody>\n",
       "</table>\n",
       "<p>37136 rows × 59 columns</p>\n",
       "</div>"
      ],
      "text/plain": [
       "       org_idradactual       exp_cuij  org_idintpri org_cod_pri  \\\n",
       "0                   72  01-00042685-3            72      JUZP01   \n",
       "1                   72  01-00039012-3            72      JUZP01   \n",
       "2                   72  01-00035028-8            72      JUZP01   \n",
       "3                   72  01-00036824-1            72      JUZP01   \n",
       "4                   72  01-00034124-6            72      JUZP01   \n",
       "...                ...            ...           ...         ...   \n",
       "37131             1001  01-00051596-1          1001      SDPCYF   \n",
       "37132             1001  01-00046682-0          1001      SDPCYF   \n",
       "37133             1001  01-00047070-4          1001      SDPCYF   \n",
       "37134             1001  01-00051827-8          1001      SDPCYF   \n",
       "37135             1001  01-00051569-4          1001      SDPCYF   \n",
       "\n",
       "      org_descorta_pri                                      org_descr_Pri  \\\n",
       "0          JUZGADO N°1  JUZGADO DE 1RA INSTANCIA EN LO PENAL CONTRAVEN...   \n",
       "1          JUZGADO N°1  JUZGADO DE 1RA INSTANCIA EN LO PENAL CONTRAVEN...   \n",
       "2          JUZGADO N°1  JUZGADO DE 1RA INSTANCIA EN LO PENAL CONTRAVEN...   \n",
       "3          JUZGADO N°1  JUZGADO DE 1RA INSTANCIA EN LO PENAL CONTRAVEN...   \n",
       "4          JUZGADO N°1  JUZGADO DE 1RA INSTANCIA EN LO PENAL CONTRAVEN...   \n",
       "...                ...                                                ...   \n",
       "37131              S/D                                                S/D   \n",
       "37132              S/D                                                S/D   \n",
       "37133              S/D                                                S/D   \n",
       "37134              S/D                                                S/D   \n",
       "37135              S/D                                                S/D   \n",
       "\n",
       "      org_idintseg  est_id  est_descr  exp_anio  ...  den_v_domestica  \\\n",
       "0          unknown       1   ASIGNADO      2016  ...              NaN   \n",
       "1          unknown      14  ARCHIVADO      2016  ...              NaN   \n",
       "2          unknown       1   ASIGNADO      2016  ...              NaN   \n",
       "3          unknown      14  ARCHIVADO      2016  ...              NaN   \n",
       "4          unknown      14  ARCHIVADO      2016  ...              NaN   \n",
       "...            ...     ...        ...       ...  ...              ...   \n",
       "37131      unknown      14  ARCHIVADO      2016  ...               NO   \n",
       "37132      unknown       1   ASIGNADO      2016  ...               NO   \n",
       "37133      unknown      14  ARCHIVADO      2016  ...               NO   \n",
       "37134      unknown      14  ARCHIVADO      2016  ...               NO   \n",
       "37135      unknown      14  ARCHIVADO      2016  ...               NO   \n",
       "\n",
       "       den_v_genero den_zon_id  den_zona  filter_. org_destino_act  \\\n",
       "0               NaN    unknown   unknown         1         unknown   \n",
       "1               NaN    unknown   unknown         1         unknown   \n",
       "2               NaN    unknown   unknown         1         unknown   \n",
       "3               NaN    unknown   unknown         1         unknown   \n",
       "4               NaN    unknown   unknown         1         unknown   \n",
       "...             ...        ...       ...       ...             ...   \n",
       "37131           NaN    unknown   unknown         1         unknown   \n",
       "37132           NaN    unknown   unknown         1         unknown   \n",
       "37133           NaN    unknown   unknown         1         unknown   \n",
       "37134           NaN    unknown     27460         1         unknown   \n",
       "37135           NaN    unknown   unknown         1         unknown   \n",
       "\n",
       "      PrimarioDen_id PrimarioDen_id_oju PrimarioExp_id PrimarioExp_oju  \n",
       "0                  1                  1              1               1  \n",
       "1                  1                  1              1               1  \n",
       "2                  1                  1              1               1  \n",
       "3                  1                  1              1               1  \n",
       "4                  1                  1              1               1  \n",
       "...              ...                ...            ...             ...  \n",
       "37131              1                  1              1               1  \n",
       "37132              1                  1              1               1  \n",
       "37133              1                  1              1               1  \n",
       "37134              1                  1              1               1  \n",
       "37135              1                  1              1               1  \n",
       "\n",
       "[37136 rows x 59 columns]"
      ]
     },
     "execution_count": 1,
     "metadata": {},
     "output_type": "execute_result"
    }
   ],
   "source": [
    "import pandas as pd\n",
    "import numpy as np\n",
    "import matplotlib.pyplot as plt\n",
    "import seaborn as sns\n",
    "\n",
    "\n",
    "\n",
    "data = pd.read_csv('penal_df.csv')\n",
    "df = data.copy()\n",
    "df"
   ]
  },
  {
   "cell_type": "code",
   "execution_count": 2,
   "metadata": {},
   "outputs": [
    {
     "data": {
      "text/plain": [
       "0    37136\n",
       "Name: exp_sufijo, dtype: int64"
      ]
     },
     "execution_count": 2,
     "metadata": {},
     "output_type": "execute_result"
    }
   ],
   "source": [
    "df.exp_sufijo.value_counts()"
   ]
  },
  {
   "cell_type": "code",
   "execution_count": 3,
   "metadata": {},
   "outputs": [],
   "source": [
    "df = df.replace('unknown','NaN')"
   ]
  },
  {
   "cell_type": "markdown",
   "metadata": {
    "colab_type": "text",
    "id": "Obpma2DoQrwO"
   },
   "source": [
    "**Limpiamos todos los valores no númericos de la columna org_descorta_pri que hace referencia al juzgado al que se le asignó el expediente cuando se judicializó**\n"
   ]
  },
  {
   "cell_type": "code",
   "execution_count": 4,
   "metadata": {
    "colab": {},
    "colab_type": "code",
    "id": "TaYsYVyk-dQK"
   },
   "outputs": [],
   "source": [
    "def clean_org_descorta_pri(df):\n",
    "\n",
    "    df['org_descorta_pri'] = df['org_descorta_pri'].replace('S/D', np.nan)\n",
    "    \n",
    "    df['org_descorta_pri'] = np.where(df['org_descorta_pri'].notnull(),df['org_descorta_pri'].str.extract('(\\d+)', expand=False),\n",
    "                                                                          df['org_descorta_pri'])\n",
    "    \n",
    "    return df\n",
    "\n",
    "df = clean_org_descorta_pri(df)"
   ]
  },
  {
   "cell_type": "markdown",
   "metadata": {
    "colab_type": "text",
    "id": "9Xb0AQvfRVmc"
   },
   "source": [
    "**Reemplazamos los códigos en las columnas org_idintpri y org_idradactual que hacen referencia al número del Juzgado**\n"
   ]
  },
  {
   "cell_type": "code",
   "execution_count": 5,
   "metadata": {
    "colab": {},
    "colab_type": "code",
    "id": "wq22CiTS-dQY"
   },
   "outputs": [],
   "source": [
    "df_juzgados = df[['org_idintpri', 'org_descorta_pri']].drop_duplicates()\n",
    "d = {}\n",
    "for i in df_juzgados['org_idintpri']:\n",
    "    d[i] = [df_juzgados['org_descorta_pri'][j] for j in df_juzgados[df_juzgados['org_idintpri']==i].index]"
   ]
  },
  {
   "cell_type": "code",
   "execution_count": 6,
   "metadata": {
    "colab": {},
    "colab_type": "code",
    "id": "a9J523vxBUyn"
   },
   "outputs": [],
   "source": [
    "df[\"org_idintpri\"].replace(d, inplace=True)\n",
    "df[\"org_idradactual\"].replace(d, inplace=True)"
   ]
  },
  {
   "cell_type": "code",
   "execution_count": 7,
   "metadata": {},
   "outputs": [
    {
     "data": {
      "text/plain": [
       "149 BIS - AMENAZAS                                                                                    6131\n",
       "149 BIS  - AMENAZAS - CP (P/ L 2303)                                                                  5108\n",
       "183 - DAÑOS                                                                                           3241\n",
       "128 1 PARR - DELITOS ATINENTES A LA PORNOGRAFIA (PRODUCIR/PUBLICAR IMAGENES PORNOGR. C MENORES 18)    2800\n",
       "89  - LESIONES LEVES                                                                                  1989\n",
       "                                                                                                      ... \n",
       "183 2º PARRAFO - DAÑOS INFORMATICOS                                                                     63\n",
       "5 E - ENTREGA / SUMINISTRO / APLICACIÓN O FACILITACIÓN DE ESTUPEFACIENTES                               59\n",
       "106  - ABANDONO DE PERSONAS - CP (P/ L 2303)                                                            55\n",
       "149TER 1 - AMENAZAS COACTIVAS AGRAVADAS POR EL USO DE ARMAS O POR SER ANÓNIMAS                          54\n",
       "4 - APROPIACIÓN INDEBIDA DE TRIBUTOS                                                                    54\n",
       "Name: oju_descr, Length: 65, dtype: int64"
      ]
     },
     "execution_count": 7,
     "metadata": {},
     "output_type": "execute_result"
    }
   ],
   "source": [
    "df.oju_descr.value_counts().head(65)"
   ]
  },
  {
   "cell_type": "code",
   "execution_count": 8,
   "metadata": {},
   "outputs": [
    {
     "data": {
      "text/html": [
       "<div>\n",
       "<style scoped>\n",
       "    .dataframe tbody tr th:only-of-type {\n",
       "        vertical-align: middle;\n",
       "    }\n",
       "\n",
       "    .dataframe tbody tr th {\n",
       "        vertical-align: top;\n",
       "    }\n",
       "\n",
       "    .dataframe thead th {\n",
       "        text-align: right;\n",
       "    }\n",
       "</style>\n",
       "<table border=\"1\" class=\"dataframe\">\n",
       "  <thead>\n",
       "    <tr style=\"text-align: right;\">\n",
       "      <th></th>\n",
       "      <th>org_descorta_pri</th>\n",
       "      <th>oju_descr</th>\n",
       "    </tr>\n",
       "  </thead>\n",
       "  <tbody>\n",
       "    <tr>\n",
       "      <td>478</td>\n",
       "      <td>1</td>\n",
       "      <td>1 - EVASION TRIBUTARIA SIMPLE</td>\n",
       "    </tr>\n",
       "    <tr>\n",
       "      <td>1214</td>\n",
       "      <td>2</td>\n",
       "      <td>1 - EVASION TRIBUTARIA SIMPLE</td>\n",
       "    </tr>\n",
       "    <tr>\n",
       "      <td>2009</td>\n",
       "      <td>28</td>\n",
       "      <td>1 - EVASION TRIBUTARIA SIMPLE</td>\n",
       "    </tr>\n",
       "    <tr>\n",
       "      <td>3577</td>\n",
       "      <td>3</td>\n",
       "      <td>1 - EVASION TRIBUTARIA SIMPLE</td>\n",
       "    </tr>\n",
       "    <tr>\n",
       "      <td>3984</td>\n",
       "      <td>24</td>\n",
       "      <td>1 - EVASION TRIBUTARIA SIMPLE</td>\n",
       "    </tr>\n",
       "    <tr>\n",
       "      <td>...</td>\n",
       "      <td>...</td>\n",
       "      <td>...</td>\n",
       "    </tr>\n",
       "    <tr>\n",
       "      <td>36013</td>\n",
       "      <td>31</td>\n",
       "      <td>1 - EVASION TRIBUTARIA SIMPLE</td>\n",
       "    </tr>\n",
       "    <tr>\n",
       "      <td>36017</td>\n",
       "      <td>31</td>\n",
       "      <td>1 - EVASION TRIBUTARIA SIMPLE</td>\n",
       "    </tr>\n",
       "    <tr>\n",
       "      <td>36019</td>\n",
       "      <td>31</td>\n",
       "      <td>1 - EVASION TRIBUTARIA SIMPLE</td>\n",
       "    </tr>\n",
       "    <tr>\n",
       "      <td>36382</td>\n",
       "      <td>31</td>\n",
       "      <td>1 - EVASION TRIBUTARIA SIMPLE</td>\n",
       "    </tr>\n",
       "    <tr>\n",
       "      <td>36851</td>\n",
       "      <td>31</td>\n",
       "      <td>1 - EVASION TRIBUTARIA SIMPLE</td>\n",
       "    </tr>\n",
       "  </tbody>\n",
       "</table>\n",
       "<p>77 rows × 2 columns</p>\n",
       "</div>"
      ],
      "text/plain": [
       "      org_descorta_pri                      oju_descr\n",
       "478                  1  1 - EVASION TRIBUTARIA SIMPLE\n",
       "1214                 2  1 - EVASION TRIBUTARIA SIMPLE\n",
       "2009                28  1 - EVASION TRIBUTARIA SIMPLE\n",
       "3577                 3  1 - EVASION TRIBUTARIA SIMPLE\n",
       "3984                24  1 - EVASION TRIBUTARIA SIMPLE\n",
       "...                ...                            ...\n",
       "36013               31  1 - EVASION TRIBUTARIA SIMPLE\n",
       "36017               31  1 - EVASION TRIBUTARIA SIMPLE\n",
       "36019               31  1 - EVASION TRIBUTARIA SIMPLE\n",
       "36382               31  1 - EVASION TRIBUTARIA SIMPLE\n",
       "36851               31  1 - EVASION TRIBUTARIA SIMPLE\n",
       "\n",
       "[77 rows x 2 columns]"
      ]
     },
     "execution_count": 8,
     "metadata": {},
     "output_type": "execute_result"
    }
   ],
   "source": [
    "delitos = df[['org_descorta_pri','oju_descr']]\n",
    "delitos[delitos[\"oju_descr\"].str.contains(\"EVASION TRIBUTARIA SIMPLE\", na=False)]"
   ]
  },
  {
   "cell_type": "markdown",
   "metadata": {
    "colab_type": "text",
    "id": "uRqnGnPbQU9P"
   },
   "source": [
    "**De la columna descripción delitos, extraemos la categoría del delito; el artículo del Código Penal al que hace referencia y la pena estimada según el Código Penal**\n"
   ]
  },
  {
   "cell_type": "code",
   "execution_count": 9,
   "metadata": {
    "colab": {},
    "colab_type": "code",
    "id": "Yd7ofUW0MiuS"
   },
   "outputs": [],
   "source": [
    "categoria_delitos = []\n",
    "articulo_codigo_penal = [] #puede ser código penal o alguna ley nacional.\n",
    "pena_estimada = [] #promedio de meses\n",
    "\n",
    "for i in df.oju_descr:\n",
    "    \n",
    "    if '149 BIS' in i:\n",
    "        categoria_delitos.append('Amenazas')\n",
    "        articulo_codigo_penal.append('149 BIS')\n",
    "        pena_estimada.append(15)\n",
    "    \n",
    "    elif '183' in i:\n",
    "        categoria_delitos.append('Daños')\n",
    "        articulo_codigo_penal.append('183')\n",
    "        pena_estimada.append(6)\n",
    "    \n",
    "    elif '128 1' in i:\n",
    "        categoria_delitos.append('Pornografia infantil')\n",
    "        articulo_codigo_penal.append('128')\n",
    "        pena_estimada.append(54)\n",
    "    \n",
    "    elif '89' in i:\n",
    "        categoria_delitos.append('Lesiones leves')\n",
    "        articulo_codigo_penal.append('89')\n",
    "        pena_estimada.append(6)\n",
    "    \n",
    "    elif '239' in i:\n",
    "        categoria_delitos.append('Resistencia a la autoridad')\n",
    "        articulo_codigo_penal.append('239')\n",
    "        pena_estimada.append(6)\n",
    "    \n",
    "    elif '5 C' in i:\n",
    "        categoria_delitos.append('Comercio de estupefacientes')\n",
    "        articulo_codigo_penal.append('5 C')\n",
    "        pena_estimada.append(21)\n",
    "    \n",
    "    elif '14 1' in i or '14 2' in i:\n",
    "        categoria_delitos.append('Tenencia de estupefacientes')\n",
    "        articulo_codigo_penal.append('14 1')\n",
    "        pena_estimada.append(12)\n",
    "    \n",
    "    elif '92' in i  or '90' in i:\n",
    "        categoria_delitos.append('Lesiones graves')\n",
    "        articulo_codigo_penal.append('92')\n",
    "        pena_estimada.append(24)\n",
    "    \n",
    "    elif '292 1' in i or '296' in i:\n",
    "        categoria_delitos.append('Falsificacion DNI')\n",
    "        articulo_codigo_penal.append('292')\n",
    "        pena_estimada.append(42)  \n",
    "        \n",
    "    elif '292 2°PARR' in i:\n",
    "        categoria_delitos.append('Falsificacion documento privado')\n",
    "        articulo_codigo_penal.append('292')\n",
    "        pena_estimada.append(15)  \n",
    "        \n",
    "    elif 'INCUMPLIMIENTO DE LOS DEBERES DE ASISTENCIA FAMILIAR' in i or '1 - LN 13.944 ' in i:\n",
    "        categoria_delitos.append('Incumplimiento asistencia familiar')\n",
    "        articulo_codigo_penal.append('13.944')\n",
    "        pena_estimada.append(12) \n",
    "        \n",
    "    elif '181'in i:\n",
    "        categoria_delitos.append('Usurpacion')\n",
    "        articulo_codigo_penal.append('181')\n",
    "        pena_estimada.append(22)   \n",
    "    \n",
    "    elif 'PRESUNTA COMISION DELITO' in i:\n",
    "        categoria_delitos.append('Presunta comision delito')\n",
    "        articulo_codigo_penal.append('nan')\n",
    "        pena_estimada.append(0)   \n",
    "    \n",
    "    elif '301BIS' in i:\n",
    "        categoria_delitos.append('Apuestas ilegales')\n",
    "        articulo_codigo_penal.append('301 BIS')\n",
    "        pena_estimada.append(44)   \n",
    "    \n",
    "    elif '94  -' in i:\n",
    "        categoria_delitos.append('Lesiones culposas')\n",
    "        articulo_codigo_penal.append('94')\n",
    "        pena_estimada.append(18)          \n",
    "    \n",
    "    elif '1 1er párr' in i:\n",
    "        categoria_delitos.append('Impedimento de contacto de menor con padre no conviviente')\n",
    "        articulo_codigo_penal.append('2470')\n",
    "        pena_estimada.append(6)    \n",
    "    \n",
    "    elif '237  - ' in i:\n",
    "        categoria_delitos.append('Atentado contra la autoridad')\n",
    "        articulo_codigo_penal.append('237')\n",
    "        pena_estimada.append(6)\n",
    "        \n",
    "    elif '150' in i:\n",
    "        categoria_delitos.append('Violacion de domicilio')\n",
    "        articulo_codigo_penal.append('150')\n",
    "        pena_estimada.append(15)\n",
    "    \n",
    "    elif '189 BIS' in i:\n",
    "        categoria_delitos.append('Posesion de arma de fuego')\n",
    "        articulo_codigo_penal.append('189 BIS (2)')\n",
    "        pena_estimada.append(15)\n",
    "    \n",
    "    elif '131' in i:\n",
    "        categoria_delitos.append('Grooming')\n",
    "        articulo_codigo_penal.append('131')\n",
    "        pena_estimada.append(27)\n",
    "    \n",
    "    \n",
    "    elif '95' in i:\n",
    "        categoria_delitos.append('Lesiones en riña agravada')\n",
    "        articulo_codigo_penal.append('95')\n",
    "        pena_estimada.append(33)\n",
    "        \n",
    "    elif '96' in i:\n",
    "        categoria_delitos.append('Lesiones en riña')\n",
    "        articulo_codigo_penal.append('96')\n",
    "        pena_estimada.append(2)\n",
    "    \n",
    "    \n",
    "    elif '144BIS ' in i:\n",
    "        categoria_delitos.append('Privacion ilegítima de la libertad agravada')\n",
    "        articulo_codigo_penal.append('144')\n",
    "        pena_estimada.append(48)\n",
    "\n",
    "    \n",
    "    elif '143' in i:\n",
    "        categoria_delitos.append('Privacion ilegitima de la libertad')\n",
    "        articulo_codigo_penal.append('143')\n",
    "        pena_estimada.append(24)\n",
    "    \n",
    "        \n",
    "    elif '153 BIS' in i:\n",
    "        categoria_delitos.append('ACCESO SIN AUTORIZACION A UN SISTEMA O DATO INFORMATICO DE ACCESO RESTRINGIDO')\n",
    "        articulo_codigo_penal.append('153')\n",
    "        pena_estimada.append(3)\n",
    "        \n",
    "        \n",
    "        \n",
    "    elif '238' in i:\n",
    "        categoria_delitos.append('Atentado y resistencia contra la autoridad')\n",
    "        articulo_codigo_penal.append('238')\n",
    "        pena_estimada.append(15)\n",
    "        \n",
    "    elif '129 2 PARR' in i:\n",
    "        categoria_delitos.append('Exhibicion obscena agravada')\n",
    "        articulo_codigo_penal.append('129 2 PARR')\n",
    "        pena_estimada.append(27)\n",
    "          \n",
    "    elif '129 1 PARR' in i:\n",
    "        categoria_delitos.append('Exhibicion obscena')\n",
    "        articulo_codigo_penal.append('129 1 PARR')\n",
    "        pena_estimada.append(0)\n",
    "    \n",
    "    elif '248' in i:\n",
    "        categoria_delitos.append('Abuso de autoridad y violacion de los deberes de funcionario publico')\n",
    "        articulo_codigo_penal.append('248')\n",
    "        pena_estimada.append(13)\n",
    "        \n",
    "    elif '129 1 PARR' in i:\n",
    "        categoria_delitos.append('Exhibicion obscena')\n",
    "        articulo_codigo_penal.append('129 1 PARR')\n",
    "        pena_estimada.append(0)\n",
    "        \n",
    "    elif '149TER 1 ' in i:\n",
    "        categoria_delitos.append('Amenaza coactiva')\n",
    "        articulo_codigo_penal.append('149TER 1')\n",
    "        pena_estimada.append(54)\n",
    "        \n",
    "        \n",
    "    elif '149TER 2 ' in i:\n",
    "        categoria_delitos.append('Amenaza coactiva agravada')\n",
    "        articulo_codigo_penal.append('149TER 2')\n",
    "        pena_estimada.append(90)\n",
    "        \n",
    "    elif '184' in i:\n",
    "        categoria_delitos.append('Daño agravado')\n",
    "        articulo_codigo_penal.append('184')\n",
    "        pena_estimada.append(25)\n",
    "        \n",
    "    elif '184' in i:\n",
    "        categoria_delitos.append('Daño agravado')\n",
    "        articulo_codigo_penal.append('184')\n",
    "        pena_estimada.append(25)\n",
    "        \n",
    "    elif '249' in i:\n",
    "        categoria_delitos.append('Incumplimiento de los deberes de funcionario publico')\n",
    "        articulo_codigo_penal.append('249')\n",
    "        pena_estimada.append(0)\n",
    "        \n",
    "        \n",
    "    elif '107' in i:\n",
    "        categoria_delitos.append('Abandono de personas agravado')\n",
    "        articulo_codigo_penal.append('107')\n",
    "        pena_estimada.append(144)\n",
    "        \n",
    "        \n",
    "    elif '106' in i:\n",
    "        categoria_delitos.append('Abandono de personas')\n",
    "        articulo_codigo_penal.append('106')\n",
    "        pena_estimada.append(48)\n",
    "             \n",
    "         \n",
    "    elif 'LEY DE PROTECCION AL ANIMAL' in i:\n",
    "        categoria_delitos.append('Maltrato animal')\n",
    "        articulo_codigo_penal.append('Ley 14346')\n",
    "        pena_estimada.append(6)\n",
    "        \n",
    "    \n",
    "         \n",
    "    elif '186' in i:\n",
    "        categoria_delitos.append('Incendio/inundacion o explosion con peligro para los bienes agravada')\n",
    "        articulo_codigo_penal.append('186')\n",
    "        pena_estimada.append(66)\n",
    "        \n",
    "        \n",
    "    elif '189' in i:\n",
    "        categoria_delitos.append('Estrago o incendio culposo')\n",
    "        articulo_codigo_penal.append('189')\n",
    "        pena_estimada.append(36)    \n",
    "        \n",
    "        \n",
    "    elif '174 5' in i:\n",
    "        categoria_delitos.append('Fraude en perjuicio de la administracion publica')\n",
    "        articulo_codigo_penal.append('174PARR 5')\n",
    "        pena_estimada.append(58)  \n",
    "    \n",
    "\n",
    "    elif '104' in i:\n",
    "        categoria_delitos.append('Abuso de armas')\n",
    "        articulo_codigo_penal.append('104')\n",
    "        pena_estimada.append(24)  \n",
    "            \n",
    "    elif 'EVASION TRIBUTARIA SIMPLE' in i:\n",
    "        categoria_delitos.append('Evasion tributaria simple')\n",
    "        articulo_codigo_penal.append('Ley 24769 Art.1')\n",
    "        pena_estimada.append(42)  \n",
    "    \n",
    "    elif 'APROPIACION INDEBIDA DE TRIBUTOS' in i:\n",
    "        categoria_delitos.append('Apropiacion indebida de tributos')\n",
    "        articulo_codigo_penal.append('Ley 24769 Art.6')\n",
    "        pena_estimada.append(42) \n",
    "        \n",
    "        \n",
    "    elif '247' in i:\n",
    "        categoria_delitos.append('Usurpacion de autoridad, titulos u honores')\n",
    "        articulo_codigo_penal.append('247')\n",
    "        pena_estimada.append(6)\n",
    "        \n",
    "    elif '125BIS' in i:\n",
    "        categoria_delitos.append('Promoción de la prostitucion')\n",
    "        articulo_codigo_penal.append('125BIS')\n",
    "        pena_estimada.append(60) \n",
    "    \n",
    "    else:\n",
    "        categoria_delitos.append('otros')\n",
    "        articulo_codigo_penal.append('otros')\n",
    "        pena_estimada.append(0)"
   ]
  },
  {
   "cell_type": "code",
   "execution_count": 10,
   "metadata": {
    "colab": {},
    "colab_type": "code",
    "id": "fnnsww3jQOlx"
   },
   "outputs": [],
   "source": [
    "def join_categoria(df):\n",
    "    \n",
    "    df_cat_delitos = pd.DataFrame(np.column_stack([categoria_delitos, articulo_codigo_penal, pena_estimada]), \n",
    "                                  columns = ['descripcion_delitos', 'articulo_codigo_penal','pena_estimada'])\n",
    "    df_nuevo = df.join(df_cat_delitos, how = 'right')\n",
    "    \n",
    "    return df_nuevo\n",
    "\n",
    "df = join_categoria(df)"
   ]
  },
  {
   "cell_type": "code",
   "execution_count": 11,
   "metadata": {},
   "outputs": [
    {
     "data": {
      "text/plain": [
       "Amenazas                                                                         11239\n",
       "Pornografia infantil                                                              4686\n",
       "Lesiones leves                                                                    3725\n",
       "Daños                                                                             3304\n",
       "Resistencia a la autoridad                                                        1554\n",
       "otros                                                                             1510\n",
       "Usurpacion                                                                        1104\n",
       "Incumplimiento asistencia familiar                                                1005\n",
       "Tenencia de estupefacientes                                                        995\n",
       "Lesiones graves                                                                    979\n",
       "Comercio de estupefacientes                                                        912\n",
       "Violacion de domicilio                                                             541\n",
       "Presunta comision delito                                                           491\n",
       "Apuestas ilegales                                                                  393\n",
       "Lesiones culposas                                                                  390\n",
       "Falsificacion DNI                                                                  372\n",
       "Impedimento de contacto de menor con padre no conviviente                          346\n",
       "Atentado contra la autoridad                                                       341\n",
       "Lesiones en riña                                                                   301\n",
       "Exhibicion obscena                                                                 249\n",
       "Privacion ilegítima de la libertad agravada                                        223\n",
       "Lesiones en riña agravada                                                          222\n",
       "Daño agravado                                                                      220\n",
       "Maltrato animal                                                                    220\n",
       "Grooming                                                                           216\n",
       "Atentado y resistencia contra la autoridad                                         188\n",
       "ACCESO SIN AUTORIZACION A UN SISTEMA O DATO INFORMATICO DE ACCESO RESTRINGIDO      177\n",
       "Abandono de personas                                                               167\n",
       "Abuso de autoridad y violacion de los deberes de funcionario publico               140\n",
       "Incendio/inundacion o explosion con peligro para los bienes agravada               129\n",
       "Incumplimiento de los deberes de funcionario publico                               119\n",
       "Abandono de personas agravado                                                       94\n",
       "Fraude en perjuicio de la administracion publica                                    92\n",
       "Abuso de armas                                                                      82\n",
       "Evasion tributaria simple                                                           77\n",
       "Apropiacion indebida de tributos                                                    75\n",
       "Usurpacion de autoridad, titulos u honores                                          68\n",
       "Promoción de la prostitucion                                                        67\n",
       "Amenaza coactiva                                                                    54\n",
       "Exhibicion obscena agravada                                                         53\n",
       "Amenaza coactiva agravada                                                           11\n",
       "Privacion ilegitima de la libertad                                                   5\n",
       "Name: descripcion_delitos, dtype: int64"
      ]
     },
     "execution_count": 11,
     "metadata": {},
     "output_type": "execute_result"
    }
   ],
   "source": [
    "df.descripcion_delitos.value_counts()"
   ]
  },
  {
   "cell_type": "code",
   "execution_count": 12,
   "metadata": {
    "colab": {
     "base_uri": "https://localhost:8080/",
     "height": 514
    },
    "colab_type": "code",
    "executionInfo": {
     "elapsed": 2527,
     "status": "ok",
     "timestamp": 1588194455396,
     "user": {
      "displayName": "Emilio Chambouleyron",
      "photoUrl": "https://lh3.googleusercontent.com/a-/AOh14GhlNcCQI_-kf04y2yc9u-8hEVC67WNdvb5QL7QHdg=s64",
      "userId": "02039745528750124958"
     },
     "user_tz": 180
    },
    "id": "hrzhsqAjZR5a",
    "outputId": "e9724e0f-fb28-4057-f86f-378f31f49199"
   },
   "outputs": [
    {
     "data": {
      "text/html": [
       "<div>\n",
       "<style scoped>\n",
       "    .dataframe tbody tr th:only-of-type {\n",
       "        vertical-align: middle;\n",
       "    }\n",
       "\n",
       "    .dataframe tbody tr th {\n",
       "        vertical-align: top;\n",
       "    }\n",
       "\n",
       "    .dataframe thead th {\n",
       "        text-align: right;\n",
       "    }\n",
       "</style>\n",
       "<table border=\"1\" class=\"dataframe\">\n",
       "  <thead>\n",
       "    <tr style=\"text-align: right;\">\n",
       "      <th></th>\n",
       "      <th>pct_null</th>\n",
       "    </tr>\n",
       "  </thead>\n",
       "  <tbody>\n",
       "    <tr>\n",
       "      <td>exp_fecelev</td>\n",
       "      <td>97.20</td>\n",
       "    </tr>\n",
       "    <tr>\n",
       "      <td>den_v_genero</td>\n",
       "      <td>85.05</td>\n",
       "    </tr>\n",
       "    <tr>\n",
       "      <td>den_hora_hecho</td>\n",
       "      <td>80.14</td>\n",
       "    </tr>\n",
       "    <tr>\n",
       "      <td>den_cod_casoMPF</td>\n",
       "      <td>69.49</td>\n",
       "    </tr>\n",
       "    <tr>\n",
       "      <td>exp_fechecho</td>\n",
       "      <td>64.55</td>\n",
       "    </tr>\n",
       "    <tr>\n",
       "      <td>den_fec_ini_comi</td>\n",
       "      <td>58.19</td>\n",
       "    </tr>\n",
       "    <tr>\n",
       "      <td>Tipo_ingreso_MPF</td>\n",
       "      <td>53.43</td>\n",
       "    </tr>\n",
       "    <tr>\n",
       "      <td>exp_fecinidem</td>\n",
       "      <td>37.09</td>\n",
       "    </tr>\n",
       "    <tr>\n",
       "      <td>den_fec_hecho</td>\n",
       "      <td>25.67</td>\n",
       "    </tr>\n",
       "    <tr>\n",
       "      <td>org_descr_Den</td>\n",
       "      <td>9.81</td>\n",
       "    </tr>\n",
       "    <tr>\n",
       "      <td>org_descorta_Den</td>\n",
       "      <td>9.81</td>\n",
       "    </tr>\n",
       "    <tr>\n",
       "      <td>den_fec_ingreso_MPF</td>\n",
       "      <td>9.81</td>\n",
       "    </tr>\n",
       "    <tr>\n",
       "      <td>den_v_domestica</td>\n",
       "      <td>9.81</td>\n",
       "    </tr>\n",
       "    <tr>\n",
       "      <td>den_flagrante</td>\n",
       "      <td>9.81</td>\n",
       "    </tr>\n",
       "    <tr>\n",
       "      <td>exp_fecini</td>\n",
       "      <td>3.96</td>\n",
       "    </tr>\n",
       "    <tr>\n",
       "      <td>org_descorta_pri</td>\n",
       "      <td>0.20</td>\n",
       "    </tr>\n",
       "    <tr>\n",
       "      <td>org_idradactual</td>\n",
       "      <td>0.20</td>\n",
       "    </tr>\n",
       "    <tr>\n",
       "      <td>org_idintpri</td>\n",
       "      <td>0.20</td>\n",
       "    </tr>\n",
       "  </tbody>\n",
       "</table>\n",
       "</div>"
      ],
      "text/plain": [
       "                     pct_null\n",
       "exp_fecelev             97.20\n",
       "den_v_genero            85.05\n",
       "den_hora_hecho          80.14\n",
       "den_cod_casoMPF         69.49\n",
       "exp_fechecho            64.55\n",
       "den_fec_ini_comi        58.19\n",
       "Tipo_ingreso_MPF        53.43\n",
       "exp_fecinidem           37.09\n",
       "den_fec_hecho           25.67\n",
       "org_descr_Den            9.81\n",
       "org_descorta_Den         9.81\n",
       "den_fec_ingreso_MPF      9.81\n",
       "den_v_domestica          9.81\n",
       "den_flagrante            9.81\n",
       "exp_fecini               3.96\n",
       "org_descorta_pri         0.20\n",
       "org_idradactual          0.20\n",
       "org_idintpri             0.20"
      ]
     },
     "execution_count": 12,
     "metadata": {},
     "output_type": "execute_result"
    }
   ],
   "source": [
    "def null_values(df):\n",
    "    nulls = pd.DataFrame((df.isnull().sum().sort_values()/len(df)*100).round(2),columns=['pct_null'])\n",
    "    nulls = nulls.loc[nulls['pct_null']>0]\n",
    "    nulls = nulls.sort_values(by = 'pct_null', ascending = False)\n",
    "    return nulls\n",
    "\n",
    "nulls = null_values(df)\n",
    "nulls"
   ]
  },
  {
   "cell_type": "code",
   "execution_count": 13,
   "metadata": {
    "colab": {},
    "colab_type": "code",
    "id": "Nui3vW4aZY5x"
   },
   "outputs": [],
   "source": [
    "df.drop(columns = ['org_cod_pri','exp_fecelev','den_v_genero','den_hora_hecho','den_cod_casoMPF','den_fec_ini_comi', 'exp_fechecho','den_fec_ini_comi'], inplace = True)"
   ]
  },
  {
   "cell_type": "code",
   "execution_count": 14,
   "metadata": {},
   "outputs": [
    {
     "data": {
      "text/plain": [
       "NO     25933\n",
       "VD      3579\n",
       "OVD     3102\n",
       "SI       880\n",
       "Name: den_v_domestica, dtype: int64"
      ]
     },
     "execution_count": 14,
     "metadata": {},
     "output_type": "execute_result"
    }
   ],
   "source": [
    "df.den_v_domestica.value_counts()"
   ]
  },
  {
   "cell_type": "code",
   "execution_count": 15,
   "metadata": {},
   "outputs": [
    {
     "data": {
      "text/plain": [
       "NO    29769\n",
       "SI     3725\n",
       "Name: den_flagrante, dtype: int64"
      ]
     },
     "execution_count": 15,
     "metadata": {},
     "output_type": "execute_result"
    }
   ],
   "source": [
    "df.den_flagrante.value_counts()"
   ]
  },
  {
   "cell_type": "code",
   "execution_count": 16,
   "metadata": {
    "colab": {},
    "colab_type": "code",
    "id": "pPD1ayQpgQS-"
   },
   "outputs": [],
   "source": [
    "df = df.rename(columns = {'den_fec_hecho' : 'fecha_denuncia_hecho','exp_fecini': 'fecha_inicio_investigacion','exp_fecinidem' : 'fecha_inicio_demanda', \n",
    "                          'exp_fecsor':'fecha_sorteo_expediente','exp_fecreg':'fecha_registro_juzgado'})\n"
   ]
  },
  {
   "cell_type": "code",
   "execution_count": 17,
   "metadata": {},
   "outputs": [
    {
     "data": {
      "text/plain": [
       "array(['ASIGNADO', 'ARCHIVADO', 'EN VISTA', 'PASE', 'CERRADO',\n",
       "       'EN DESPACHO', 'ANULADO', 'INICIAL', 'MIGRACION', 'PRINCIPAL',\n",
       "       'RESUELTO', 'EN TRAMITE', 'RADICADO', 'REMITIDO POR INCOMPETENCIA',\n",
       "       'PREARCHIVO'], dtype=object)"
      ]
     },
     "execution_count": 17,
     "metadata": {},
     "output_type": "execute_result"
    }
   ],
   "source": [
    "df.est_descr.unique()"
   ]
  },
  {
   "cell_type": "code",
   "execution_count": 18,
   "metadata": {
    "colab": {
     "base_uri": "https://localhost:8080/",
     "height": 419
    },
    "colab_type": "code",
    "executionInfo": {
     "elapsed": 883,
     "status": "ok",
     "timestamp": 1588194519928,
     "user": {
      "displayName": "Emilio Chambouleyron",
      "photoUrl": "https://lh3.googleusercontent.com/a-/AOh14GhlNcCQI_-kf04y2yc9u-8hEVC67WNdvb5QL7QHdg=s64",
      "userId": "02039745528750124958"
     },
     "user_tz": 180
    },
    "id": "8ALLnGG-wfkm",
    "outputId": "b7ea33d2-461d-4acc-b812-88307c49aa57"
   },
   "outputs": [],
   "source": [
    "df_fechas = df[['est_descr','exp_anio','Tipo_ingreso_MPF','den_fec_ingreso_MPF','fecha_denuncia_hecho','fecha_inicio_demanda','fecha_inicio_investigacion','fecha_registro_juzgado','fecha_sorteo_expediente']]"
   ]
  },
  {
   "cell_type": "code",
   "execution_count": 19,
   "metadata": {},
   "outputs": [
    {
     "data": {
      "text/html": [
       "<div>\n",
       "<style scoped>\n",
       "    .dataframe tbody tr th:only-of-type {\n",
       "        vertical-align: middle;\n",
       "    }\n",
       "\n",
       "    .dataframe tbody tr th {\n",
       "        vertical-align: top;\n",
       "    }\n",
       "\n",
       "    .dataframe thead th {\n",
       "        text-align: right;\n",
       "    }\n",
       "</style>\n",
       "<table border=\"1\" class=\"dataframe\">\n",
       "  <thead>\n",
       "    <tr style=\"text-align: right;\">\n",
       "      <th></th>\n",
       "      <th>est_descr</th>\n",
       "      <th>exp_anio</th>\n",
       "      <th>Tipo_ingreso_MPF</th>\n",
       "      <th>den_fec_ingreso_MPF</th>\n",
       "      <th>fecha_denuncia_hecho</th>\n",
       "      <th>fecha_inicio_demanda</th>\n",
       "      <th>fecha_inicio_investigacion</th>\n",
       "      <th>fecha_registro_juzgado</th>\n",
       "      <th>fecha_sorteo_expediente</th>\n",
       "    </tr>\n",
       "  </thead>\n",
       "  <tbody>\n",
       "    <tr>\n",
       "      <td>0</td>\n",
       "      <td>ASIGNADO</td>\n",
       "      <td>2016</td>\n",
       "      <td>NaN</td>\n",
       "      <td>NaN</td>\n",
       "      <td>NaN</td>\n",
       "      <td>26/7/2016 13:45</td>\n",
       "      <td>25/3/2014 00:00</td>\n",
       "      <td>26/7/2016 13:45</td>\n",
       "      <td>26/7/2016 13:45</td>\n",
       "    </tr>\n",
       "    <tr>\n",
       "      <td>1</td>\n",
       "      <td>ARCHIVADO</td>\n",
       "      <td>2016</td>\n",
       "      <td>NaN</td>\n",
       "      <td>NaN</td>\n",
       "      <td>NaN</td>\n",
       "      <td>31/10/2014 00:00</td>\n",
       "      <td>19/5/2016 00:00</td>\n",
       "      <td>19/5/2016 15:40</td>\n",
       "      <td>19/5/2016 00:00</td>\n",
       "    </tr>\n",
       "    <tr>\n",
       "      <td>2</td>\n",
       "      <td>ASIGNADO</td>\n",
       "      <td>2016</td>\n",
       "      <td>NaN</td>\n",
       "      <td>NaN</td>\n",
       "      <td>NaN</td>\n",
       "      <td>3/3/2016 09:40</td>\n",
       "      <td>23/2/2015 00:00</td>\n",
       "      <td>3/3/2016 09:40</td>\n",
       "      <td>3/3/2016 09:40</td>\n",
       "    </tr>\n",
       "    <tr>\n",
       "      <td>3</td>\n",
       "      <td>ARCHIVADO</td>\n",
       "      <td>2016</td>\n",
       "      <td>NaN</td>\n",
       "      <td>NaN</td>\n",
       "      <td>NaN</td>\n",
       "      <td>14/5/2015 00:00</td>\n",
       "      <td>8/4/2016 00:00</td>\n",
       "      <td>8/4/2016 12:20</td>\n",
       "      <td>8/4/2016 00:00</td>\n",
       "    </tr>\n",
       "    <tr>\n",
       "      <td>4</td>\n",
       "      <td>ARCHIVADO</td>\n",
       "      <td>2016</td>\n",
       "      <td>NaN</td>\n",
       "      <td>NaN</td>\n",
       "      <td>NaN</td>\n",
       "      <td>19/5/2015 00:00</td>\n",
       "      <td>29/2/2016 00:00</td>\n",
       "      <td>15/2/2016 10:25</td>\n",
       "      <td>15/2/2016 00:00</td>\n",
       "    </tr>\n",
       "    <tr>\n",
       "      <td>...</td>\n",
       "      <td>...</td>\n",
       "      <td>...</td>\n",
       "      <td>...</td>\n",
       "      <td>...</td>\n",
       "      <td>...</td>\n",
       "      <td>...</td>\n",
       "      <td>...</td>\n",
       "      <td>...</td>\n",
       "      <td>...</td>\n",
       "    </tr>\n",
       "    <tr>\n",
       "      <td>37131</td>\n",
       "      <td>ARCHIVADO</td>\n",
       "      <td>2016</td>\n",
       "      <td>DENUNCIA</td>\n",
       "      <td>24/11/2016 00:00</td>\n",
       "      <td>23/4/2016 00:00</td>\n",
       "      <td>25/11/2016 10:05</td>\n",
       "      <td>24/11/2016 00:00</td>\n",
       "      <td>25/11/2016 10:05</td>\n",
       "      <td>25/11/2016 10:05</td>\n",
       "    </tr>\n",
       "    <tr>\n",
       "      <td>37132</td>\n",
       "      <td>ASIGNADO</td>\n",
       "      <td>2016</td>\n",
       "      <td>DENUNCIA</td>\n",
       "      <td>9/9/2016 00:00</td>\n",
       "      <td>18/6/2016 00:00</td>\n",
       "      <td>22/9/2016 08:35</td>\n",
       "      <td>9/9/2016 00:00</td>\n",
       "      <td>22/9/2016 08:35</td>\n",
       "      <td>22/9/2016 08:35</td>\n",
       "    </tr>\n",
       "    <tr>\n",
       "      <td>37133</td>\n",
       "      <td>ARCHIVADO</td>\n",
       "      <td>2016</td>\n",
       "      <td>DENUNCIA</td>\n",
       "      <td>8/9/2016 00:00</td>\n",
       "      <td>29/6/2016 00:00</td>\n",
       "      <td>27/9/2016 07:50</td>\n",
       "      <td>8/9/2016 00:00</td>\n",
       "      <td>27/9/2016 07:50</td>\n",
       "      <td>27/9/2016 07:50</td>\n",
       "    </tr>\n",
       "    <tr>\n",
       "      <td>37134</td>\n",
       "      <td>ARCHIVADO</td>\n",
       "      <td>2016</td>\n",
       "      <td>DENUNCIA</td>\n",
       "      <td>11/11/2016 00:00</td>\n",
       "      <td>27/7/2016 00:00</td>\n",
       "      <td>30/11/2016 09:50</td>\n",
       "      <td>11/11/2016 00:00</td>\n",
       "      <td>30/11/2016 09:50</td>\n",
       "      <td>30/11/2016 09:50</td>\n",
       "    </tr>\n",
       "    <tr>\n",
       "      <td>37135</td>\n",
       "      <td>ARCHIVADO</td>\n",
       "      <td>2016</td>\n",
       "      <td>DENUNCIA</td>\n",
       "      <td>24/11/2016 00:00</td>\n",
       "      <td>26/9/2016 00:00</td>\n",
       "      <td>24/11/2016 14:10</td>\n",
       "      <td>24/11/2016 00:00</td>\n",
       "      <td>24/11/2016 14:10</td>\n",
       "      <td>24/11/2016 14:10</td>\n",
       "    </tr>\n",
       "  </tbody>\n",
       "</table>\n",
       "<p>37136 rows × 9 columns</p>\n",
       "</div>"
      ],
      "text/plain": [
       "       est_descr  exp_anio Tipo_ingreso_MPF den_fec_ingreso_MPF  \\\n",
       "0       ASIGNADO      2016              NaN                 NaN   \n",
       "1      ARCHIVADO      2016              NaN                 NaN   \n",
       "2       ASIGNADO      2016              NaN                 NaN   \n",
       "3      ARCHIVADO      2016              NaN                 NaN   \n",
       "4      ARCHIVADO      2016              NaN                 NaN   \n",
       "...          ...       ...              ...                 ...   \n",
       "37131  ARCHIVADO      2016         DENUNCIA    24/11/2016 00:00   \n",
       "37132   ASIGNADO      2016         DENUNCIA      9/9/2016 00:00   \n",
       "37133  ARCHIVADO      2016         DENUNCIA      8/9/2016 00:00   \n",
       "37134  ARCHIVADO      2016         DENUNCIA    11/11/2016 00:00   \n",
       "37135  ARCHIVADO      2016         DENUNCIA    24/11/2016 00:00   \n",
       "\n",
       "      fecha_denuncia_hecho fecha_inicio_demanda fecha_inicio_investigacion  \\\n",
       "0                      NaN      26/7/2016 13:45            25/3/2014 00:00   \n",
       "1                      NaN     31/10/2014 00:00            19/5/2016 00:00   \n",
       "2                      NaN       3/3/2016 09:40            23/2/2015 00:00   \n",
       "3                      NaN      14/5/2015 00:00             8/4/2016 00:00   \n",
       "4                      NaN      19/5/2015 00:00            29/2/2016 00:00   \n",
       "...                    ...                  ...                        ...   \n",
       "37131      23/4/2016 00:00     25/11/2016 10:05           24/11/2016 00:00   \n",
       "37132      18/6/2016 00:00      22/9/2016 08:35             9/9/2016 00:00   \n",
       "37133      29/6/2016 00:00      27/9/2016 07:50             8/9/2016 00:00   \n",
       "37134      27/7/2016 00:00     30/11/2016 09:50           11/11/2016 00:00   \n",
       "37135      26/9/2016 00:00     24/11/2016 14:10           24/11/2016 00:00   \n",
       "\n",
       "      fecha_registro_juzgado fecha_sorteo_expediente  \n",
       "0            26/7/2016 13:45         26/7/2016 13:45  \n",
       "1            19/5/2016 15:40         19/5/2016 00:00  \n",
       "2             3/3/2016 09:40          3/3/2016 09:40  \n",
       "3             8/4/2016 12:20          8/4/2016 00:00  \n",
       "4            15/2/2016 10:25         15/2/2016 00:00  \n",
       "...                      ...                     ...  \n",
       "37131       25/11/2016 10:05        25/11/2016 10:05  \n",
       "37132        22/9/2016 08:35         22/9/2016 08:35  \n",
       "37133        27/9/2016 07:50         27/9/2016 07:50  \n",
       "37134       30/11/2016 09:50        30/11/2016 09:50  \n",
       "37135       24/11/2016 14:10        24/11/2016 14:10  \n",
       "\n",
       "[37136 rows x 9 columns]"
      ]
     },
     "execution_count": 19,
     "metadata": {},
     "output_type": "execute_result"
    }
   ],
   "source": [
    "df_fechas"
   ]
  },
  {
   "cell_type": "code",
   "execution_count": 20,
   "metadata": {},
   "outputs": [
    {
     "data": {
      "text/html": [
       "<div>\n",
       "<style scoped>\n",
       "    .dataframe tbody tr th:only-of-type {\n",
       "        vertical-align: middle;\n",
       "    }\n",
       "\n",
       "    .dataframe tbody tr th {\n",
       "        vertical-align: top;\n",
       "    }\n",
       "\n",
       "    .dataframe thead th {\n",
       "        text-align: right;\n",
       "    }\n",
       "</style>\n",
       "<table border=\"1\" class=\"dataframe\">\n",
       "  <thead>\n",
       "    <tr style=\"text-align: right;\">\n",
       "      <th></th>\n",
       "      <th>org_idradactual</th>\n",
       "      <th>exp_cuij</th>\n",
       "      <th>org_idintpri</th>\n",
       "      <th>org_descorta_pri</th>\n",
       "      <th>org_descr_Pri</th>\n",
       "      <th>org_idintseg</th>\n",
       "      <th>est_id</th>\n",
       "      <th>est_descr</th>\n",
       "      <th>exp_anio</th>\n",
       "      <th>exp_cuerpos</th>\n",
       "      <th>...</th>\n",
       "      <th>den_zona</th>\n",
       "      <th>filter_.</th>\n",
       "      <th>org_destino_act</th>\n",
       "      <th>PrimarioDen_id</th>\n",
       "      <th>PrimarioDen_id_oju</th>\n",
       "      <th>PrimarioExp_id</th>\n",
       "      <th>PrimarioExp_oju</th>\n",
       "      <th>descripcion_delitos</th>\n",
       "      <th>articulo_codigo_penal</th>\n",
       "      <th>pena_estimada</th>\n",
       "    </tr>\n",
       "  </thead>\n",
       "  <tbody>\n",
       "    <tr>\n",
       "      <td>0</td>\n",
       "      <td>1.0</td>\n",
       "      <td>01-00042685-3</td>\n",
       "      <td>1.0</td>\n",
       "      <td>1</td>\n",
       "      <td>JUZGADO DE 1RA INSTANCIA EN LO PENAL CONTRAVEN...</td>\n",
       "      <td>NaN</td>\n",
       "      <td>1</td>\n",
       "      <td>ASIGNADO</td>\n",
       "      <td>2016</td>\n",
       "      <td>1</td>\n",
       "      <td>...</td>\n",
       "      <td>NaN</td>\n",
       "      <td>1</td>\n",
       "      <td>NaN</td>\n",
       "      <td>1</td>\n",
       "      <td>1</td>\n",
       "      <td>1</td>\n",
       "      <td>1</td>\n",
       "      <td>Pornografia infantil</td>\n",
       "      <td>128</td>\n",
       "      <td>54</td>\n",
       "    </tr>\n",
       "    <tr>\n",
       "      <td>1</td>\n",
       "      <td>1.0</td>\n",
       "      <td>01-00039012-3</td>\n",
       "      <td>1.0</td>\n",
       "      <td>1</td>\n",
       "      <td>JUZGADO DE 1RA INSTANCIA EN LO PENAL CONTRAVEN...</td>\n",
       "      <td>NaN</td>\n",
       "      <td>14</td>\n",
       "      <td>ARCHIVADO</td>\n",
       "      <td>2016</td>\n",
       "      <td>1</td>\n",
       "      <td>...</td>\n",
       "      <td>NaN</td>\n",
       "      <td>1</td>\n",
       "      <td>NaN</td>\n",
       "      <td>1</td>\n",
       "      <td>1</td>\n",
       "      <td>1</td>\n",
       "      <td>1</td>\n",
       "      <td>Amenazas</td>\n",
       "      <td>149 BIS</td>\n",
       "      <td>15</td>\n",
       "    </tr>\n",
       "    <tr>\n",
       "      <td>2</td>\n",
       "      <td>1.0</td>\n",
       "      <td>01-00035028-8</td>\n",
       "      <td>1.0</td>\n",
       "      <td>1</td>\n",
       "      <td>JUZGADO DE 1RA INSTANCIA EN LO PENAL CONTRAVEN...</td>\n",
       "      <td>NaN</td>\n",
       "      <td>1</td>\n",
       "      <td>ASIGNADO</td>\n",
       "      <td>2016</td>\n",
       "      <td>1</td>\n",
       "      <td>...</td>\n",
       "      <td>NaN</td>\n",
       "      <td>1</td>\n",
       "      <td>NaN</td>\n",
       "      <td>1</td>\n",
       "      <td>1</td>\n",
       "      <td>1</td>\n",
       "      <td>1</td>\n",
       "      <td>Amenazas</td>\n",
       "      <td>149 BIS</td>\n",
       "      <td>15</td>\n",
       "    </tr>\n",
       "    <tr>\n",
       "      <td>3</td>\n",
       "      <td>1.0</td>\n",
       "      <td>01-00036824-1</td>\n",
       "      <td>1.0</td>\n",
       "      <td>1</td>\n",
       "      <td>JUZGADO DE 1RA INSTANCIA EN LO PENAL CONTRAVEN...</td>\n",
       "      <td>NaN</td>\n",
       "      <td>14</td>\n",
       "      <td>ARCHIVADO</td>\n",
       "      <td>2016</td>\n",
       "      <td>1</td>\n",
       "      <td>...</td>\n",
       "      <td>NaN</td>\n",
       "      <td>1</td>\n",
       "      <td>NaN</td>\n",
       "      <td>1</td>\n",
       "      <td>1</td>\n",
       "      <td>1</td>\n",
       "      <td>1</td>\n",
       "      <td>Pornografia infantil</td>\n",
       "      <td>128</td>\n",
       "      <td>54</td>\n",
       "    </tr>\n",
       "    <tr>\n",
       "      <td>4</td>\n",
       "      <td>1.0</td>\n",
       "      <td>01-00034124-6</td>\n",
       "      <td>1.0</td>\n",
       "      <td>1</td>\n",
       "      <td>JUZGADO DE 1RA INSTANCIA EN LO PENAL CONTRAVEN...</td>\n",
       "      <td>NaN</td>\n",
       "      <td>14</td>\n",
       "      <td>ARCHIVADO</td>\n",
       "      <td>2016</td>\n",
       "      <td>1</td>\n",
       "      <td>...</td>\n",
       "      <td>NaN</td>\n",
       "      <td>1</td>\n",
       "      <td>NaN</td>\n",
       "      <td>1</td>\n",
       "      <td>1</td>\n",
       "      <td>1</td>\n",
       "      <td>1</td>\n",
       "      <td>Daños</td>\n",
       "      <td>183</td>\n",
       "      <td>6</td>\n",
       "    </tr>\n",
       "  </tbody>\n",
       "</table>\n",
       "<p>5 rows × 55 columns</p>\n",
       "</div>"
      ],
      "text/plain": [
       "   org_idradactual       exp_cuij  org_idintpri org_descorta_pri  \\\n",
       "0              1.0  01-00042685-3           1.0                1   \n",
       "1              1.0  01-00039012-3           1.0                1   \n",
       "2              1.0  01-00035028-8           1.0                1   \n",
       "3              1.0  01-00036824-1           1.0                1   \n",
       "4              1.0  01-00034124-6           1.0                1   \n",
       "\n",
       "                                       org_descr_Pri org_idintseg  est_id  \\\n",
       "0  JUZGADO DE 1RA INSTANCIA EN LO PENAL CONTRAVEN...          NaN       1   \n",
       "1  JUZGADO DE 1RA INSTANCIA EN LO PENAL CONTRAVEN...          NaN      14   \n",
       "2  JUZGADO DE 1RA INSTANCIA EN LO PENAL CONTRAVEN...          NaN       1   \n",
       "3  JUZGADO DE 1RA INSTANCIA EN LO PENAL CONTRAVEN...          NaN      14   \n",
       "4  JUZGADO DE 1RA INSTANCIA EN LO PENAL CONTRAVEN...          NaN      14   \n",
       "\n",
       "   est_descr  exp_anio  exp_cuerpos  ...  den_zona filter_.  org_destino_act  \\\n",
       "0   ASIGNADO      2016            1  ...       NaN        1              NaN   \n",
       "1  ARCHIVADO      2016            1  ...       NaN        1              NaN   \n",
       "2   ASIGNADO      2016            1  ...       NaN        1              NaN   \n",
       "3  ARCHIVADO      2016            1  ...       NaN        1              NaN   \n",
       "4  ARCHIVADO      2016            1  ...       NaN        1              NaN   \n",
       "\n",
       "   PrimarioDen_id PrimarioDen_id_oju PrimarioExp_id PrimarioExp_oju  \\\n",
       "0               1                  1              1               1   \n",
       "1               1                  1              1               1   \n",
       "2               1                  1              1               1   \n",
       "3               1                  1              1               1   \n",
       "4               1                  1              1               1   \n",
       "\n",
       "    descripcion_delitos articulo_codigo_penal  pena_estimada  \n",
       "0  Pornografia infantil                   128             54  \n",
       "1              Amenazas               149 BIS             15  \n",
       "2              Amenazas               149 BIS             15  \n",
       "3  Pornografia infantil                   128             54  \n",
       "4                 Daños                   183              6  \n",
       "\n",
       "[5 rows x 55 columns]"
      ]
     },
     "execution_count": 20,
     "metadata": {},
     "output_type": "execute_result"
    }
   ],
   "source": [
    "def convert_to_datetime(df):\n",
    "\n",
    "    df['fecha_denuncia_hecho'] = pd.to_datetime(df.fecha_denuncia_hecho, infer_datetime_format=True)\n",
    "    df['fecha_inicio_investigacion'] = pd.to_datetime(df.fecha_inicio_investigacion, infer_datetime_format=True)\n",
    "    df['fecha_inicio_demanda'] = pd.to_datetime(df.fecha_inicio_demanda, infer_datetime_format=True)\n",
    "    df['fecha_sorteo_expediente'] = pd.to_datetime(df.fecha_sorteo_expediente, infer_datetime_format=True)\n",
    "    df['fecha_registro_juzgado'] = pd.to_datetime(df.fecha_registro_juzgado, infer_datetime_format=True)\n",
    "    df['den_fec_ingreso_MPF'] = pd.to_datetime(df.den_fec_ingreso_MPF, infer_datetime_format=True, )\n",
    "    df['fecha_denuncia_hecho'] = pd.to_datetime(df.fecha_denuncia_hecho, infer_datetime_format=True)\n",
    "    return df\n",
    "\n",
    "df = convert_to_datetime(df)\n",
    "df.head()"
   ]
  },
  {
   "cell_type": "code",
   "execution_count": 21,
   "metadata": {},
   "outputs": [
    {
     "data": {
      "text/plain": [
       "org_idradactual                  76\n",
       "exp_cuij                          0\n",
       "org_idintpri                     76\n",
       "org_descorta_pri                 76\n",
       "org_descr_Pri                     0\n",
       "org_idintseg                      0\n",
       "est_id                            0\n",
       "est_descr                         0\n",
       "exp_anio                          0\n",
       "exp_cuerpos                       0\n",
       "exp_fojas                         0\n",
       "exp_detenidos                     0\n",
       "exp_id                            0\n",
       "exp_sufijo                        0\n",
       "fecha_inicio_demanda          13772\n",
       "fecha_inicio_investigacion     1469\n",
       "fecha_registro_juzgado            0\n",
       "fecha_sorteo_expediente           0\n",
       "exp_letra                         0\n",
       "oju_id                            0\n",
       "oju_descr                         0\n",
       "exp_ultmov                        0\n",
       "exp_ultmovf                       0\n",
       "den_id                            0\n",
       "Tipo_ingreso_MPF              19843\n",
       "org_cod                           1\n",
       "org_descr                         1\n",
       "org_descorta                      1\n",
       "org_den                           0\n",
       "org_descorta_Den               3643\n",
       "org_descr_Den                  3643\n",
       "den_flagrante                  3642\n",
       "Comuna                            0\n",
       "den_barrio                        0\n",
       "den_calle_id                      0\n",
       "den_cod_postal                    0\n",
       "fecha_denuncia_hecho           9532\n",
       "den_fec_ingreso_MPF            3642\n",
       "den_latitud                       0\n",
       "den_longitud                      0\n",
       "den_tipo_den                      0\n",
       "den_loc_id                        0\n",
       "den_sin_lugar_hecho               0\n",
       "den_v_domestica                3642\n",
       "den_zon_id                        0\n",
       "den_zona                          0\n",
       "filter_.                          0\n",
       "org_destino_act                   0\n",
       "PrimarioDen_id                    0\n",
       "PrimarioDen_id_oju                0\n",
       "PrimarioExp_id                    0\n",
       "PrimarioExp_oju                   0\n",
       "descripcion_delitos               0\n",
       "articulo_codigo_penal             0\n",
       "pena_estimada                     0\n",
       "dtype: int64"
      ]
     },
     "execution_count": 21,
     "metadata": {},
     "output_type": "execute_result"
    }
   ],
   "source": [
    "df.isnull().sum()"
   ]
  },
  {
   "cell_type": "code",
   "execution_count": 22,
   "metadata": {},
   "outputs": [
    {
     "data": {
      "text/plain": [
       "array(['NaN', '27', '0', '10', '32', '35', '28', '36', '33', '26', '23',\n",
       "       '30', '40', '31', '3', '22', '24', '5', '17', '13', '6', '39', '2',\n",
       "       '29', '18', '21', '7', '12', '16', '1', '20', '11', '19', '34',\n",
       "       '25', '4', '8', '15', '38', '14', '37', '9'], dtype=object)"
      ]
     },
     "execution_count": 22,
     "metadata": {},
     "output_type": "execute_result"
    }
   ],
   "source": [
    "df.org_den.unique()"
   ]
  },
  {
   "cell_type": "code",
   "execution_count": 23,
   "metadata": {},
   "outputs": [
    {
     "data": {
      "text/plain": [
       "array([nan, 'FISCALIA PCYF Nº 27', 'UFE - AREA DE CASOS ESPECIALES',\n",
       "       'FISCALIA PCYF Nº 10', 'UFO - AREA DE CASOS ESPECIALES',\n",
       "       'FISCALIA PCYF Nº 7 (INFORMATICO)', 'FISCALIA PCYF Nº 32',\n",
       "       'FISCALIA PCYF Nº 35', 'FISCALIA PCYF Nº 28',\n",
       "       'FISCALIA PCYF Nº 36', 'FISCALIA PCYF Nº 33',\n",
       "       'FISCALIA PCYF Nº 26', 'FISCALIA PCYF Nº 23',\n",
       "       'FISCALIA PCYF Nº 30', 'FISCALIA PCYF Nº 40',\n",
       "       'FISCALIA PCYF Nº 31', 'AGESC - ÁREA DE GESTIÓN DE CÉDULAS',\n",
       "       'FISCALIA PCYF Nº 3', 'FISCAL COORDINADOR - U.F. OESTE',\n",
       "       'UFDCyFE - UNIDAD COORDINADORA',\n",
       "       'FISCALIA PCYF Nº 30 (INFORMATICO)', 'FISCALIA PCYF Nº 22',\n",
       "       'UFO - UIT INVESTIGACIÓN', 'FISCALIA PCYF Nº 24',\n",
       "       'FISCALIA PCYF Nº 5', 'FISCALIA PCYF Nº 17',\n",
       "       'FISCAL COORDINADOR - U.F. SUR', 'UFS - AREA DE CASOS ESPECIALES',\n",
       "       'UFE - UNIDAD DE INTERVENCION TEMPRANA ESTE',\n",
       "       'FISCALIA PCYF Nº 13', 'FISCALIA PCYF Nº 6',\n",
       "       'FISCAL COORDINADOR - U.F. ESTE',\n",
       "       'FISCAL COORDINADOR - U.F. NORTE',\n",
       "       'FISCALIA PCYF Nº 12 (INFORMATICO)', 'FISCALIA PCYF Nº 39',\n",
       "       'FISCALIA PCYF Nº 2', 'FISCALIA PCYF Nº 40 (AMBIENTAL)',\n",
       "       'SECRETARIA GENERAL EN LO PENAL, CONTRAVENCIONAL Y DE FALTAS',\n",
       "       'MINISTERIO PUBLICO FISCAL', 'FISCALIA PCYF Nº 29',\n",
       "       'FISCALÍA DE CÁMARA OESTE', 'FISCALIA PCYF Nº 18',\n",
       "       'FISCALIA PCYF Nº 21',\n",
       "       'UFO - UNIDAD DE INTERVENCION TEMPRANA OESTE',\n",
       "       'FISCALIA PCYF Nº 22 (DISCRIMINACION)', 'FISCALIA PCYF Nº 7',\n",
       "       'FISCALIA PCYF Nº 12', 'UFS - UNIDAD DE INTERVENCION TEMPRANA SUR',\n",
       "       'FISCALIA PCYF Nº 16', 'FISCALIA PCYF Nº 1', 'FISCALIA PCYF Nº 20',\n",
       "       'FISCALIA PCYF Nº 11', 'FISCALIA PCYF Nº 19',\n",
       "       'FISCAL COORDINADOR - U.F. SUDESTE',\n",
       "       'UFSE - UNIDAD DE INTERVENCION TEMPRANA SUDESTE',\n",
       "       'FISCALIA PCYF Nº 34', 'FISCALIA PCYF Nº 25', 'FISCALIA PCYF Nº 4',\n",
       "       'FISCALIA PCYF Nº 8', 'FISCALIA PCYF Nº 15',\n",
       "       'UFDCyFE - UNIDAD DE INTERVENCIÓN TEMPRANA', 'FISCALIA PCYF Nº 38',\n",
       "       'FISCALIA PCYF Nº 14',\n",
       "       'UFN - UNIDAD DE INTERVENCION TEMPRANA NORTE',\n",
       "       'FISCALIA PCYF Nº 37', 'FISCALIA PCYF Nº 9',\n",
       "       'UFN - AREA DE CASOS ESPECIALES', 'DEFENSORIA PCYF N° 15',\n",
       "       'DEFENSORIA PCYF N° 2', 'UFSE - AREA DE CASOS ESPECIALES',\n",
       "       'DEFENSORIA PCYF N° 1', 'DEFENSORIA PCYF N° 8',\n",
       "       'DEFENSORIA PCYF N° 4', 'UFN - UIT INVESTIGACIÓN',\n",
       "       'DEFENSORIA PCYF N° 10', 'DEFENSORIA PCYF N° 16',\n",
       "       'DEFENSORIA PCYF N° 22', 'DEFENSORIA PCYF N° 23',\n",
       "       'UFE - UIT INVESTIGACIÓN', 'DEFENSORIA PCYF N° 11',\n",
       "       'DEFENSORIA PCYF N° 24', 'DEFENSORIA PCYF N° 5',\n",
       "       'DEFENSORIA PCYF N° 7', 'DEFENSORIA PCYF N° 17',\n",
       "       'DEFENSORIA PCYF N° 13',\n",
       "       'JUZGADO DE 1RA INSTANCIA EN LO PENAL CONTRAVENCIONAL Y DE FALTAS N°31'],\n",
       "      dtype=object)"
      ]
     },
     "execution_count": 23,
     "metadata": {},
     "output_type": "execute_result"
    }
   ],
   "source": [
    "df.org_descr_Den.unique()"
   ]
  },
  {
   "cell_type": "code",
   "execution_count": 24,
   "metadata": {},
   "outputs": [
    {
     "data": {
      "text/plain": [
       "DENUNCIA    16149\n",
       "OFICIO       1024\n",
       "ACTA          120\n",
       "Name: Tipo_ingreso_MPF, dtype: int64"
      ]
     },
     "execution_count": 24,
     "metadata": {},
     "output_type": "execute_result"
    }
   ],
   "source": [
    "df.Tipo_ingreso_MPF.value_counts()"
   ]
  },
  {
   "cell_type": "code",
   "execution_count": 25,
   "metadata": {},
   "outputs": [
    {
     "data": {
      "text/plain": [
       "NaN    24082\n",
       "0      12991\n",
       "1         63\n",
       "Name: exp_detenidos, dtype: int64"
      ]
     },
     "execution_count": 25,
     "metadata": {},
     "output_type": "execute_result"
    }
   ],
   "source": [
    "df.exp_detenidos.value_counts()"
   ]
  },
  {
   "cell_type": "code",
   "execution_count": 26,
   "metadata": {},
   "outputs": [
    {
     "data": {
      "text/plain": [
       "0    37136\n",
       "Name: exp_sufijo, dtype: int64"
      ]
     },
     "execution_count": 26,
     "metadata": {},
     "output_type": "execute_result"
    }
   ],
   "source": [
    "df.exp_sufijo.value_counts()"
   ]
  },
  {
   "cell_type": "code",
   "execution_count": 27,
   "metadata": {},
   "outputs": [
    {
     "data": {
      "text/plain": [
       "SECRETARIA GENERAL EN LO PENAL, CONTRAVENCIONAL Y DE FALTAS    8974\n",
       "MINISTERIO PUBLICO FISCAL                                      8620\n",
       "AGESC - ÁREA DE GESTIÓN DE CÉDULAS                             2298\n",
       "FISCALIA PCYF Nº 7 (INFORMATICO)                               1291\n",
       "FISCALIA PCYF Nº 30 (INFORMATICO)                               966\n",
       "                                                               ... \n",
       "DEFENSORIA PCYF N° 24                                             1\n",
       "DEFENSORIA PCYF N° 8                                              1\n",
       "DEFENSORIA PCYF N° 22                                             1\n",
       "DEFENSORIA PCYF N° 5                                              1\n",
       "DEFENSORIA PCYF N° 10                                             1\n",
       "Name: org_descr, Length: 84, dtype: int64"
      ]
     },
     "execution_count": 27,
     "metadata": {},
     "output_type": "execute_result"
    }
   ],
   "source": [
    "df.org_descr.value_counts()"
   ]
  },
  {
   "cell_type": "code",
   "execution_count": 28,
   "metadata": {},
   "outputs": [
    {
     "data": {
      "text/plain": [
       "DENUNCIA    16149\n",
       "OFICIO       1024\n",
       "ACTA          120\n",
       "Name: Tipo_ingreso_MPF, dtype: int64"
      ]
     },
     "execution_count": 28,
     "metadata": {},
     "output_type": "execute_result"
    }
   ],
   "source": [
    "df.Tipo_ingreso_MPF.value_counts()"
   ]
  },
  {
   "cell_type": "code",
   "execution_count": 29,
   "metadata": {},
   "outputs": [
    {
     "data": {
      "text/plain": [
       "MPF                     10918\n",
       "SECRETARÍA GRAL PCYF     8974\n",
       "FISCALÍA PCYF Nº 7I      1291\n",
       "FISCALÍA PCYF Nº 30I      966\n",
       "F.C. - U.F. ESTE          725\n",
       "                        ...  \n",
       "DEFENSORIA 10               1\n",
       "DEFENSORIA 22               1\n",
       "DEFENSORIA 24               1\n",
       "DEFENSORIA 8                1\n",
       "DEFENSORIA 5                1\n",
       "Name: org_descorta, Length: 80, dtype: int64"
      ]
     },
     "execution_count": 29,
     "metadata": {},
     "output_type": "execute_result"
    }
   ],
   "source": [
    "df.org_descorta.value_counts()"
   ]
  },
  {
   "cell_type": "code",
   "execution_count": 30,
   "metadata": {},
   "outputs": [
    {
     "data": {
      "text/plain": [
       "1    32384\n",
       "0     4752\n",
       "Name: PrimarioDen_id, dtype: int64"
      ]
     },
     "execution_count": 30,
     "metadata": {},
     "output_type": "execute_result"
    }
   ],
   "source": [
    "df.PrimarioDen_id.value_counts()"
   ]
  },
  {
   "cell_type": "code",
   "execution_count": 31,
   "metadata": {},
   "outputs": [
    {
     "data": {
      "text/plain": [
       "1    37136\n",
       "Name: PrimarioDen_id_oju, dtype: int64"
      ]
     },
     "execution_count": 31,
     "metadata": {},
     "output_type": "execute_result"
    }
   ],
   "source": [
    "df.PrimarioDen_id_oju.value_counts()"
   ]
  },
  {
   "cell_type": "code",
   "execution_count": 32,
   "metadata": {},
   "outputs": [
    {
     "data": {
      "text/plain": [
       "1    37136\n",
       "Name: PrimarioExp_oju, dtype: int64"
      ]
     },
     "execution_count": 32,
     "metadata": {},
     "output_type": "execute_result"
    }
   ],
   "source": [
    "df.PrimarioExp_oju.value_counts()"
   ]
  },
  {
   "cell_type": "code",
   "execution_count": 33,
   "metadata": {},
   "outputs": [
    {
     "data": {
      "text/plain": [
       "1    32384\n",
       "0     4752\n",
       "Name: PrimarioExp_id, dtype: int64"
      ]
     },
     "execution_count": 33,
     "metadata": {},
     "output_type": "execute_result"
    }
   ],
   "source": [
    "df.PrimarioExp_id.value_counts()"
   ]
  },
  {
   "cell_type": "code",
   "execution_count": 34,
   "metadata": {},
   "outputs": [
    {
     "data": {
      "text/plain": [
       "<matplotlib.axes._subplots.AxesSubplot at 0x217b2185d08>"
      ]
     },
     "execution_count": 34,
     "metadata": {},
     "output_type": "execute_result"
    },
    {
     "data": {
      "image/png": "[encoded data removed]",
      "text/plain": [
       "<Figure size 1440x864 with 2 Axes>"
      ]
     },
     "metadata": {
      "needs_background": "light"
     },
     "output_type": "display_data"
    }
   ],
   "source": [
    "import missingno as msno\n",
    "msno.heatmap(df)"
   ]
  },
  {
   "cell_type": "code",
   "execution_count": 35,
   "metadata": {},
   "outputs": [],
   "source": [
    "df.drop(columns = ['PrimarioDen_id_oju','PrimarioExp_oju','PrimarioExp_id'], inplace = True)"
   ]
  },
  {
   "cell_type": "code",
   "execution_count": 45,
   "metadata": {},
   "outputs": [
    {
     "data": {
      "text/plain": [
       "01-00046612-9    10\n",
       "01-00014159-9     8\n",
       "01-00049798-9     7\n",
       "01-00049615-0     7\n",
       "01-00043390-6     6\n",
       "01-00036341-9     6\n",
       "01-00059275-3     6\n",
       "01-00014289-8     6\n",
       "01-00043326-4     6\n",
       "01-00018353-5     6\n",
       "Name: exp_cuij, dtype: int64"
      ]
     },
     "execution_count": 45,
     "metadata": {},
     "output_type": "execute_result"
    }
   ],
   "source": [
    "df.exp_cuij.value_counts().head(10)"
   ]
  },
  {
   "cell_type": "code",
   "execution_count": 44,
   "metadata": {},
   "outputs": [
    {
     "data": {
      "text/plain": [
       "01-00046612    10\n",
       "01-00014159     8\n",
       "01-00049615     7\n",
       "01-00049798     7\n",
       "01-00014289     6\n",
       "01-00059275     6\n",
       "01-00036341     6\n",
       "01-00056845     6\n",
       "01-00043390     6\n",
       "01-00047067     6\n",
       "Name: codigo_expediente, dtype: int64"
      ]
     },
     "execution_count": 44,
     "metadata": {},
     "output_type": "execute_result"
    }
   ],
   "source": [
    "df['codigo_expediente'] = df['exp_cuij'].str[:11]\n",
    "df['codigo_expediente'].value_counts().head(10)"
   ]
  },
  {
   "cell_type": "code",
   "execution_count": 81,
   "metadata": {},
   "outputs": [
    {
     "data": {
      "text/plain": [
       "14655    DENUNCIA\n",
       "14656    DENUNCIA\n",
       "14657    DENUNCIA\n",
       "14658    DENUNCIA\n",
       "14659    DENUNCIA\n",
       "14660    DENUNCIA\n",
       "14661    DENUNCIA\n",
       "Name: Tipo_ingreso_MPF, dtype: object"
      ]
     },
     "execution_count": 81,
     "metadata": {},
     "output_type": "execute_result"
    }
   ],
   "source": [
    "prueba = df[df.codigo_expediente == '01-00049615']\n",
    "prueba.Tipo_ingreso_MPF"
   ]
  },
  {
   "cell_type": "code",
   "execution_count": 83,
   "metadata": {},
   "outputs": [
    {
     "data": {
      "text/plain": [
       "NaN     15578\n",
       "1004      197\n",
       "1006      197\n",
       "1005      177\n",
       "Name: org_idintseg, dtype: int64"
      ]
     },
     "execution_count": 83,
     "metadata": {},
     "output_type": "execute_result"
    }
   ],
   "source": [
    "denuncia = df[df.Tipo_ingreso_MPF == 'DENUNCIA']\n",
    "denuncia.org_idintseg.value_counts()"
   ]
  },
  {
   "cell_type": "code",
   "execution_count": 84,
   "metadata": {},
   "outputs": [
    {
     "data": {
      "text/plain": [
       "NaN     36096\n",
       "1004      357\n",
       "1006      356\n",
       "1005      327\n",
       "Name: org_idintseg, dtype: int64"
      ]
     },
     "execution_count": 84,
     "metadata": {},
     "output_type": "execute_result"
    }
   ],
   "source": [
    "df.org_idintseg.value_counts()"
   ]
  }
 ],
 "metadata": {
  "colab": {
   "name": "limpieza_datos.ipynb",
   "provenance": []
  },
  "kernelspec": {
   "display_name": "Python 3",
   "language": "python",
   "name": "python3"
  },
  "language_info": {
   "codemirror_mode": {
    "name": "ipython",
    "version": 3
   },
   "file_extension": ".py",
   "mimetype": "text/x-python",
   "name": "python",
   "nbconvert_exporter": "python",
   "pygments_lexer": "ipython3",
   "version": "3.7.4"
  }
 },
 "nbformat": 4,
 "nbformat_minor": 1
}
